{
  "cells": [
    {
      "cell_type": "markdown",
      "metadata": {},
      "source": [
        "# Library needed"
      ]
    },
    {
      "cell_type": "code",
      "execution_count": null,
      "metadata": {},
      "outputs": [],
      "source": [
        "import pandas as pd\n",
        "import numpy as np\n",
        "import matplotlib.pyplot as plt\n",
        "import os\n",
        "from tqdm import tqdm\n",
        "import tensorflow as tf\n",
        "import cv2\n",
        "\n",
        "from skimage import  color\n",
        "from skimage.transform import rescale, resize\n",
        "\n",
        "from sklearn.model_selection import train_test_split"
      ]
    },
    {
      "cell_type": "code",
      "execution_count": 3,
      "metadata": {
        "id": "lEeJc5cFRIPa"
      },
      "outputs": [],
      "source": [
        "import warnings\n",
        "warnings.filterwarnings('ignore')\n",
        "%config completer.use_jedi=False\n",
        "%matplotlib inline"
      ]
    },
    {
      "cell_type": "markdown",
      "metadata": {},
      "source": [
        "# Connect to driver"
      ]
    },
    {
      "cell_type": "code",
      "execution_count": 4,
      "metadata": {
        "colab": {
          "base_uri": "https://localhost:8080/"
        },
        "id": "Zij_2jtTYdwr",
        "outputId": "8c552aaf-9c34-45db-e33d-3fce7ecaf142"
      },
      "outputs": [
        {
          "name": "stdout",
          "output_type": "stream",
          "text": [
            "Drive already mounted at /content/drive; to attempt to forcibly remount, call drive.mount(\"/content/drive\", force_remount=True).\n"
          ]
        }
      ],
      "source": [
        "from google.colab import drive\n",
        "drive.mount('/content/drive')"
      ]
    },
    {
      "cell_type": "code",
      "execution_count": null,
      "metadata": {
        "id": "j1NjfAyz-kUW"
      },
      "outputs": [],
      "source": [
        "from locale import D_T_FMT\n",
        "df=pd.read_csv(\"/content/drive/MyDrive/BDSaS/S3/DM/DataSet/mitbih_train.csv\",header=None)"
      ]
    },
    {
      "cell_type": "code",
      "execution_count": null,
      "metadata": {
        "id": "iaEwg1A51SlQ"
      },
      "outputs": [],
      "source": [
        "tst=pd.read_csv(\"/content/drive/MyDrive/BDSaS/S3/DM/DataSet/mitbih_test.csv\",header=None)"
      ]
    },
    {
      "cell_type": "markdown",
      "metadata": {},
      "source": [
        "* show first 10 raws"
      ]
    },
    {
      "cell_type": "code",
      "execution_count": null,
      "metadata": {
        "id": "EfsXm60zg2Ry"
      },
      "outputs": [],
      "source": [
        "df.head(10)"
      ]
    },
    {
      "cell_type": "markdown",
      "metadata": {},
      "source": [
        "# Classes of the target"
      ]
    },
    {
      "cell_type": "code",
      "execution_count": null,
      "metadata": {
        "colab": {
          "base_uri": "https://localhost:8080/"
        },
        "id": "drahwSYE1bD-",
        "outputId": "ec153599-7410-4e2c-dab7-9ce17310b09e"
      },
      "outputs": [
        {
          "data": {
            "text/plain": [
              "0.0    72471\n",
              "4.0     6431\n",
              "2.0     5788\n",
              "1.0     2223\n",
              "3.0      641\n",
              "Name: 187, dtype: int64"
            ]
          },
          "execution_count": 10,
          "metadata": {},
          "output_type": "execute_result"
        }
      ],
      "source": [
        "df[187].value_counts()"
      ]
    },
    {
      "cell_type": "markdown",
      "metadata": {},
      "source": [
        "# Translate Data ECG to Images (Data Training)"
      ]
    },
    {
      "cell_type": "code",
      "execution_count": null,
      "metadata": {
        "colab": {
          "base_uri": "https://localhost:8080/"
        },
        "id": "-hmZGp3M1qDl",
        "outputId": "aa89849c-1e80-4132-e177-dfd384bd551b"
      },
      "outputs": [
        {
          "name": "stderr",
          "output_type": "stream",
          "text": [
            "100%|██████████| 6000/6000 [05:07<00:00, 19.53it/s]\n"
          ]
        }
      ],
      "source": [
        "class0=df[df.iloc[:,187]==0.0]\n",
        "for i in tqdm(range(6000)):\n",
        "    if(os.path.exists(f'/content/drive/MyDrive/BDSaS/S3/DM/DataSet/train/classe0/{i}.png')==False):\n",
        "      fig=plt.figure(figsize=(4,4))\n",
        "      plt.plot(class1.iloc[i,:-1])\n",
        "      plt.axis('off')\n",
        "      plt.savefig(f'/content/drive/MyDrive/BDSaS/S3/DM/DataSet/train/classe0/{i}.png')\n",
        "      plt.close(fig)"
      ]
    },
    {
      "cell_type": "code",
      "execution_count": null,
      "metadata": {
        "colab": {
          "base_uri": "https://localhost:8080/"
        },
        "id": "rLLhwJWMNvxI",
        "outputId": "7e910163-4ae2-4dce-eca1-d6f395b5a580"
      },
      "outputs": [
        {
          "name": "stderr",
          "output_type": "stream",
          "text": [
            "100%|██████████| 2223/2223 [01:45<00:00, 21.03it/s]\n"
          ]
        }
      ],
      "source": [
        "class1=df[df.iloc[:,187]==1.0]\n",
        "for i in tqdm(range(class1.shape[0])):\n",
        "    if(os.path.exists(f'/content/drive/MyDrive/BDSaS/S3/DM/DataSet/train/classe1/{i}.png')==False):\n",
        "      fig=plt.figure(figsize=(4,4))\n",
        "      plt.plot(class1.iloc[i,:-1])\n",
        "      plt.axis('off')\n",
        "      plt.savefig(f'/content/drive/MyDrive/BDSaS/S3/DM/DataSet/train/classe1/{i}.png')\n",
        "      plt.close(fig)"
      ]
    },
    {
      "cell_type": "code",
      "execution_count": null,
      "metadata": {
        "colab": {
          "base_uri": "https://localhost:8080/"
        },
        "id": "YO0BMepgPHKc",
        "outputId": "3ba38023-95e2-4865-9348-3cb8b06a897b"
      },
      "outputs": [
        {
          "name": "stderr",
          "output_type": "stream",
          "text": [
            "100%|██████████| 5788/5788 [04:41<00:00, 20.60it/s]\n"
          ]
        }
      ],
      "source": [
        "class2=df[df.iloc[:,187]==2.0]\n",
        "for i in tqdm(range(class2.shape[0])):\n",
        "    if(os.path.exists(f'/content/drive/MyDrive/BDSaS/S3/DM/DataSet/train/classe2/{i}.png')==False):\n",
        "      fig=plt.figure(figsize=(4,4))\n",
        "      plt.plot(class2.iloc[i,:-1])\n",
        "      plt.axis('off')\n",
        "      plt.savefig(f'/content/drive/MyDrive/BDSaS/S3/DM/DataSet/train/classe2/{i}.png')\n",
        "      plt.close(fig)"
      ]
    },
    {
      "cell_type": "code",
      "execution_count": null,
      "metadata": {
        "colab": {
          "base_uri": "https://localhost:8080/"
        },
        "id": "YLen89h2Q4do",
        "outputId": "612a26eb-ab0f-474f-fb1d-780000f5b4ee"
      },
      "outputs": [
        {
          "name": "stderr",
          "output_type": "stream",
          "text": [
            "100%|██████████| 641/641 [00:38<00:00, 16.66it/s]\n"
          ]
        }
      ],
      "source": [
        "class3=df[df.iloc[:,187]==3.0]\n",
        "for i in tqdm(range(class3.shape[0])):\n",
        "    if(os.path.exists(f'/content/drive/MyDrive/BDSaS/S3/DM/DataSet/train/classe3/{i}.png')==False):\n",
        "      fig=plt.figure(figsize=(4,4))\n",
        "      plt.plot(class3.iloc[i,:-1])\n",
        "      plt.axis('off')\n",
        "      plt.savefig(f'/content/drive/MyDrive/BDSaS/S3/DM/DataSet/train/classe3/{i}.png')\n",
        "      plt.close(fig)"
      ]
    },
    {
      "cell_type": "code",
      "execution_count": null,
      "metadata": {
        "colab": {
          "base_uri": "https://localhost:8080/"
        },
        "id": "l6omPtM6TJqp",
        "outputId": "8eb36462-63be-41c3-a326-cec986aed9db"
      },
      "outputs": [
        {
          "name": "stderr",
          "output_type": "stream",
          "text": [
            "100%|██████████| 6431/6431 [05:08<00:00, 20.84it/s]\n"
          ]
        }
      ],
      "source": [
        "class4=df[df.iloc[:,187]==4.0]\n",
        "for i in tqdm(range(class4.shape[0])):\n",
        "    if(os.path.exists(f'/content/drive/MyDrive/BDSaS/S3/DM/DataSet/train/classe4/{i}.png')==False):\n",
        "      fig=plt.figure(figsize=(4,4))\n",
        "      plt.plot(class4.iloc[i,:-1])\n",
        "      plt.axis('off')\n",
        "      plt.savefig(f'/content/drive/MyDrive/BDSaS/S3/DM/DataSet/train/classe4/{i}.png')\n",
        "      plt.close(fig)"
      ]
    },
    {
      "cell_type": "markdown",
      "metadata": {},
      "source": [
        "# Show an example of image obtained after translation "
      ]
    },
    {
      "cell_type": "code",
      "execution_count": null,
      "metadata": {
        "colab": {
          "base_uri": "https://localhost:8080/",
          "height": 286
        },
        "id": "wS30fw_6HcRS",
        "outputId": "2c438dda-a2c4-49b6-b878-780a19363ae7"
      },
      "outputs": [
        {
          "data": {
            "text/plain": [
              "<matplotlib.image.AxesImage at 0x7f188dc00f50>"
            ]
          },
          "execution_count": 35,
          "metadata": {},
          "output_type": "execute_result"
        },
        {
          "data": {
            "image/png": "[encoded data removed]",
            "text/plain": [
              "<Figure size 432x288 with 1 Axes>"
            ]
          },
          "metadata": {
            "needs_background": "light"
          },
          "output_type": "display_data"
        }
      ],
      "source": [
        "image=plt.imread('/content/1.png')\n",
        "image = color.rgb2gray(image)\n",
        "image=resize(image,(150,150))\n",
        "plt.imshow(image,cmap='gray')"
      ]
    },
    {
      "cell_type": "markdown",
      "metadata": {},
      "source": [
        "# Translate Data ECG to Images (Data Testing)"
      ]
    },
    {
      "cell_type": "code",
      "execution_count": null,
      "metadata": {
        "colab": {
          "base_uri": "https://localhost:8080/"
        },
        "id": "Hqu1_33xLma9",
        "outputId": "b1c04b82-5a69-4d1f-ea5a-8d601bb54ba2"
      },
      "outputs": [
        {
          "name": "stderr",
          "output_type": "stream",
          "text": [
            "100%|██████████| 6000/6000 [05:45<00:00, 17.37it/s]\n"
          ]
        }
      ],
      "source": [
        "### test\n",
        "class0=tst[tst.iloc[:,187]==0.0]\n",
        "for i in tqdm(range(6000)):\n",
        "    if(os.path.exists(f'/content/drive/MyDrive/BDSaS/S3/DM/DataSet/test/classe0/{i}.png')==False):\n",
        "      fig=plt.figure(figsize=(4,4))\n",
        "      plt.plot(class0.iloc[i,:-1])\n",
        "      plt.axis('off')\n",
        "      plt.savefig(f'/content/drive/MyDrive/BDSaS/S3/DM/DataSet/test/classe0/{i}.png')\n",
        "      plt.close(fig)"
      ]
    },
    {
      "cell_type": "code",
      "execution_count": null,
      "metadata": {
        "colab": {
          "base_uri": "https://localhost:8080/"
        },
        "id": "esxxv6LPW7QN",
        "outputId": "114eb00e-525e-4add-c4af-ccb142b95646"
      },
      "outputs": [
        {
          "name": "stderr",
          "output_type": "stream",
          "text": [
            "100%|██████████| 556/556 [00:34<00:00, 16.28it/s]\n"
          ]
        }
      ],
      "source": [
        "\n",
        "class1=tst[tst.iloc[:,187]==1.0]\n",
        "for i in tqdm(range(class1.shape[0])):\n",
        "    if(os.path.exists(f'/content/drive/MyDrive/BDSaS/S3/DM/DataSet/test/classe1/{i}.png')==False):\n",
        "      fig=plt.figure(figsize=(4,4))\n",
        "      plt.plot(class1.iloc[i,:-1])\n",
        "      plt.axis('off')\n",
        "      plt.savefig(f'/content/drive/MyDrive/BDSaS/S3/DM/DataSet/test/classe1/{i}.png')\n",
        "      plt.close(fig)"
      ]
    },
    {
      "cell_type": "code",
      "execution_count": null,
      "metadata": {
        "colab": {
          "base_uri": "https://localhost:8080/"
        },
        "id": "ASAGIirbXY-8",
        "outputId": "d8f208f7-38dc-4513-fe6f-3dfa773b9457"
      },
      "outputs": [
        {
          "name": "stderr",
          "output_type": "stream",
          "text": [
            "100%|██████████| 1448/1448 [01:06<00:00, 21.70it/s]\n"
          ]
        }
      ],
      "source": [
        "class2=tst[tst.iloc[:,187]==2.0]\n",
        "for i in tqdm(range(class2.shape[0])):\n",
        "    if(os.path.exists(f'/content/drive/MyDrive/BDSaS/S3/DM/DataSet/test/classe2/{i}.png')==False):\n",
        "      fig=plt.figure(figsize=(4,4))\n",
        "      plt.plot(class2.iloc[i,:-1])\n",
        "      plt.axis('off')\n",
        "      plt.savefig(f'/content/drive/MyDrive/BDSaS/S3/DM/DataSet/test/classe2/{i}.png')\n",
        "      plt.close(fig)"
      ]
    },
    {
      "cell_type": "code",
      "execution_count": null,
      "metadata": {
        "colab": {
          "base_uri": "https://localhost:8080/"
        },
        "id": "AsSNGRI1W9L_",
        "outputId": "61470b77-b1f4-4f62-b11b-cca13e9559d0"
      },
      "outputs": [
        {
          "name": "stderr",
          "output_type": "stream",
          "text": [
            "100%|██████████| 162/162 [00:09<00:00, 17.78it/s]\n"
          ]
        }
      ],
      "source": [
        "class3=tst[tst.iloc[:,187]==3.0]\n",
        "for i in tqdm(range(class3.shape[0])):\n",
        "    if(os.path.exists(f'/content/drive/MyDrive/BDSaS/S3/DM/DataSet/test/classe3/{i}.png')==False):\n",
        "      fig=plt.figure(figsize=(4,4))\n",
        "      plt.plot(class3.iloc[i,:-1])\n",
        "      plt.axis('off')\n",
        "      plt.savefig(f'/content/drive/MyDrive/BDSaS/S3/DM/DataSet/test/classe3/{i}.png')\n",
        "      plt.close(fig)"
      ]
    },
    {
      "cell_type": "code",
      "execution_count": null,
      "metadata": {
        "colab": {
          "base_uri": "https://localhost:8080/"
        },
        "id": "Mv6JTx9CXmv5",
        "outputId": "5e68f840-69a7-4602-f3ab-b35dee8f4792"
      },
      "outputs": [
        {
          "name": "stderr",
          "output_type": "stream",
          "text": [
            "100%|██████████| 1608/1608 [01:17<00:00, 20.80it/s]\n"
          ]
        }
      ],
      "source": [
        "class4=tst[tst.iloc[:,187]==4.0]\n",
        "for i in tqdm(range(class4.shape[0])):\n",
        "    if(os.path.exists(f'/content/drive/MyDrive/BDSaS/S3/DM/DataSet/test/classe4/{i}.png')==False):\n",
        "      fig=plt.figure(figsize=(4,4))\n",
        "      plt.plot(class4.iloc[i,:-1])\n",
        "      plt.axis('off')\n",
        "      plt.savefig(f'/content/drive/MyDrive/BDSaS/S3/DM/DataSet/test/classe4/{i}.png')\n",
        "      plt.close(fig)"
      ]
    },
    {
      "cell_type": "markdown",
      "metadata": {},
      "source": [
        "# prepare data training"
      ]
    },
    {
      "cell_type": "code",
      "execution_count": 5,
      "metadata": {
        "id": "FLepcfSSaTzh"
      },
      "outputs": [],
      "source": [
        "#load images train\n",
        "data_dir='/content/drive/MyDrive/BDSaS/S3/DM/DataSet/train/'\n",
        "list_ds = tf.data.Dataset.list_files(data_dir +'*/*', shuffle=False)"
      ]
    },
    {
      "cell_type": "code",
      "execution_count": 6,
      "metadata": {
        "colab": {
          "base_uri": "https://localhost:8080/"
        },
        "id": "ai2mTWkngtdE",
        "outputId": "16c1ece2-5fbd-444c-fcf9-a64b296f1a4d"
      },
      "outputs": [
        {
          "name": "stderr",
          "output_type": "stream",
          "text": [
            "100%|██████████| 21083/21083 [01:57<00:00, 179.27it/s]\n"
          ]
        }
      ],
      "source": [
        "data=[]\n",
        "y=[]\n",
        "\n",
        "for f in tqdm(list_ds):\n",
        "  f=f.numpy().decode(\"utf-8\")\n",
        "  \n",
        "  image=cv2.imread(f)\n",
        "  image=cv2.resize(image,(100,100))\n",
        "  image=np.array(image,dtype=\"float32\")\n",
        "  #image=np.reshape(image,(150,150,3))\n",
        "  data.append(list(image))\n",
        "  \n",
        "  if(int(f[55])==0):\n",
        "    y.append([0])\n",
        "  elif(int(f[55])==1):\n",
        "    y.append([1])\n",
        "  elif(int(f[55])==2):\n",
        "    y.append([2])\n",
        "  elif(int(f[55])==3):\n",
        "   y.append([3])\n",
        "  elif(int(f[55])==4):\n",
        "    y.append([4])\n"
      ]
    },
    {
      "cell_type": "code",
      "execution_count": 7,
      "metadata": {
        "colab": {
          "base_uri": "https://localhost:8080/"
        },
        "id": "38DsvIfahHWg",
        "outputId": "9da465c5-08c6-4120-f978-acb5fcb2474f"
      },
      "outputs": [
        {
          "name": "stdout",
          "output_type": "stream",
          "text": [
            "(21083, 100, 100, 3)\n",
            "(21083, 1)\n"
          ]
        }
      ],
      "source": [
        "data=np.array(data)\n",
        "y=np.array(y)\n",
        "print(data.shape)\n",
        "print(y.shape)"
      ]
    },
    {
      "cell_type": "markdown",
      "metadata": {},
      "source": [
        "# Extract data validation form data traing to validate the model and to find the best model"
      ]
    },
    {
      "cell_type": "code",
      "execution_count": 10,
      "metadata": {
        "id": "jrQZ7aQxj2xj"
      },
      "outputs": [],
      "source": [
        "X_tr,X_v, y_tr,y_v = train_test_split(data,y, test_size=0.2)"
      ]
    },
    {
      "cell_type": "code",
      "execution_count": 11,
      "metadata": {
        "colab": {
          "base_uri": "https://localhost:8080/"
        },
        "id": "lr541AMvnk-O",
        "outputId": "246502e1-6fd2-44f0-bd8d-ca1a098a2469"
      },
      "outputs": [
        {
          "name": "stdout",
          "output_type": "stream",
          "text": [
            "(16866, 5)\n",
            "(4217, 5)\n"
          ]
        }
      ],
      "source": [
        "y_tr= tf.keras.utils.to_categorical(y_tr)\n",
        "y_v= tf.keras.utils.to_categorical(y_v)\n",
        "print(y_tr.shape)\n",
        "print(y_v.shape)"
      ]
    },
    {
      "cell_type": "markdown",
      "metadata": {},
      "source": [
        "# different models "
      ]
    },
    {
      "cell_type": "markdown",
      "metadata": {},
      "source": [
        "* Model 1"
      ]
    },
    {
      "cell_type": "code",
      "execution_count": 12,
      "metadata": {
        "id": "O4uSUfGUn5i0"
      },
      "outputs": [],
      "source": [
        "#voila votre model\n",
        "from keras.models import Sequential\n",
        "from keras.layers import Dense, Conv2D, Flatten,MaxPooling2D,Dropout,Rescaling\n",
        "model = Sequential()\n",
        "model.add(Rescaling((1./255),))\n",
        "model.add(Conv2D(32, (5, 5), input_shape=(100, 100, 3), activation='relu'))\n",
        "model.add(MaxPooling2D(pool_size=(2, 2)))\n",
        "model.add(Dropout(0.2))\n",
        "model.add(Flatten())\n",
        "model.add(Dense(128, activation='relu'))\n",
        "model.add(Dense(5, activation='softmax'))"
      ]
    },
    {
      "cell_type": "code",
      "execution_count": 13,
      "metadata": {
        "id": "XEbJVQVloqYT"
      },
      "outputs": [],
      "source": [
        "model.compile(loss='categorical_crossentropy', optimizer='adam', metrics=['accuracy'])"
      ]
    },
    {
      "cell_type": "code",
      "execution_count": 14,
      "metadata": {
        "colab": {
          "base_uri": "https://localhost:8080/"
        },
        "id": "3KI2Nye-ot2k",
        "outputId": "25b5ade9-9479-4622-8dd8-e280791e6470"
      },
      "outputs": [
        {
          "name": "stdout",
          "output_type": "stream",
          "text": [
            "Epoch 1/3\n",
            "5622/5622 [==============================] - 957s 170ms/step - loss: 0.4647 - accuracy: 0.8406 - val_loss: 0.3036 - val_accuracy: 0.8912\n",
            "Epoch 2/3\n",
            "5622/5622 [==============================] - 934s 166ms/step - loss: 0.3016 - accuracy: 0.8991 - val_loss: 0.2499 - val_accuracy: 0.9156\n",
            "Epoch 3/3\n",
            "5622/5622 [==============================] - 935s 166ms/step - loss: 0.2160 - accuracy: 0.9280 - val_loss: 0.2405 - val_accuracy: 0.9177\n"
          ]
        },
        {
          "data": {
            "text/plain": [
              "<keras.callbacks.History at 0x7fb05bba3590>"
            ]
          },
          "execution_count": 14,
          "metadata": {},
          "output_type": "execute_result"
        }
      ],
      "source": [
        "model.fit(X_tr,y_tr,validation_data=(X_v,y_v), epochs=3, batch_size=3, verbose=1)"
      ]
    },
    {
      "cell_type": "code",
      "execution_count": 15,
      "metadata": {
        "colab": {
          "base_uri": "https://localhost:8080/"
        },
        "id": "HNyaHPjfo2Eb",
        "outputId": "a11ac238-e042-41dd-dd36-7c28e1cb0fc7"
      },
      "outputs": [
        {
          "name": "stdout",
          "output_type": "stream",
          "text": [
            "INFO:tensorflow:Assets written to: /content/drive/MyDrive/BDSaS/S3/DM/DataSet/bon_model/assets\n"
          ]
        }
      ],
      "source": [
        "model.save('/content/drive/MyDrive/BDSaS/S3/DM/DataSet/bon_model')"
      ]
    },
    {
      "cell_type": "markdown",
      "metadata": {},
      "source": [
        "# prepare data test"
      ]
    },
    {
      "cell_type": "code",
      "execution_count": 16,
      "metadata": {
        "id": "kuETHms0zt2X"
      },
      "outputs": [],
      "source": [
        "# load images  test \n",
        "data_dir='/content/drive/MyDrive/BDSaS/S3/DM/DataSet/test/'\n",
        "list_ds = tf.data.Dataset.list_files(data_dir +'*/*', shuffle=False)"
      ]
    },
    {
      "cell_type": "code",
      "execution_count": 20,
      "metadata": {
        "colab": {
          "base_uri": "https://localhost:8080/"
        },
        "id": "32Ezr7hYz-qp",
        "outputId": "aee1c427-3755-4d4a-a759-be508d426c19"
      },
      "outputs": [
        {
          "name": "stderr",
          "output_type": "stream",
          "text": [
            "100%|██████████| 9774/9774 [01:21<00:00, 119.32it/s]\n"
          ]
        }
      ],
      "source": [
        "data=[]\n",
        "y=[]\n",
        "\n",
        "for f in tqdm(list_ds):\n",
        "  f=f.numpy().decode(\"utf-8\")\n",
        " \n",
        "  image=cv2.imread(f)\n",
        "  image=cv2.resize(image,(100,100))\n",
        "  image=np.array(image,dtype=\"float32\")\n",
        "  #image=np.reshape(image,(150,150,3))\n",
        "  data.append(list(image))\n",
        "  \n",
        "  if(int(f[54])==0):\n",
        "    y.append([0])\n",
        "  elif(int(f[54])==1):\n",
        "    y.append([1])\n",
        "  elif(int(f[54])==2):\n",
        "    y.append([2])\n",
        "  elif(int(f[54])==3):\n",
        "   y.append([3])\n",
        "  elif(int(f[54])==4):\n",
        "    y.append([4])"
      ]
    },
    {
      "cell_type": "code",
      "execution_count": 21,
      "metadata": {
        "colab": {
          "base_uri": "https://localhost:8080/"
        },
        "id": "os89G0DJ0It5",
        "outputId": "ffa9fef3-79e8-4709-9b52-4758cb34969e"
      },
      "outputs": [
        {
          "name": "stdout",
          "output_type": "stream",
          "text": [
            "(9774, 100, 100, 3)\n",
            "(9774, 1)\n"
          ]
        }
      ],
      "source": [
        "data=np.array(data)\n",
        "y=np.array(y)\n",
        "print(data.shape)\n",
        "print(y.shape)"
      ]
    },
    {
      "cell_type": "code",
      "execution_count": 22,
      "metadata": {
        "colab": {
          "base_uri": "https://localhost:8080/"
        },
        "id": "ZKIShHl_1G1u",
        "outputId": "4ea9a707-a94e-4c23-c8e1-e7c1c15d1ed2"
      },
      "outputs": [
        {
          "name": "stdout",
          "output_type": "stream",
          "text": [
            "(9774, 5)\n"
          ]
        }
      ],
      "source": [
        "y_t= tf.keras.utils.to_categorical(y)\n",
        "\n",
        "print(y_t.shape)"
      ]
    },
    {
      "cell_type": "code",
      "execution_count": 23,
      "metadata": {
        "colab": {
          "base_uri": "https://localhost:8080/"
        },
        "id": "uvhAgH6a1RAx",
        "outputId": "723b1430-dafa-4b28-f322-106d9ffa6a9d"
      },
      "outputs": [
        {
          "name": "stdout",
          "output_type": "stream",
          "text": [
            "Evaluate on test data\n",
            "77/77 [==============================] - 27s 347ms/step - loss: 0.2404 - accuracy: 0.9262\n",
            "test loss, 0.24042554199695587\n",
            "test acc: 0.9262328743934631\n"
          ]
        }
      ],
      "source": [
        "print(\"Evaluate on test data\")\n",
        "ls,acc = model.evaluate(data, y_t, batch_size=128)\n",
        "print(\"test loss,\", ls)\n",
        "print(\"test acc:\", acc)"
      ]
    },
    {
      "cell_type": "markdown",
      "metadata": {},
      "source": [
        "# Convert model to Lite Model"
      ]
    },
    {
      "cell_type": "code",
      "execution_count": 24,
      "metadata": {
        "colab": {
          "base_uri": "https://localhost:8080/"
        },
        "id": "3BndtkGT1Zdt",
        "outputId": "a61bf253-bc83-4987-eebf-5aefbc9dc43a"
      },
      "outputs": [
        {
          "name": "stderr",
          "output_type": "stream",
          "text": [
            "WARNING:absl:Buffer deduplication procedure will be skipped when flatbuffer library is not properly loaded\n"
          ]
        },
        {
          "data": {
            "text/plain": [
              "37764040"
            ]
          },
          "execution_count": 24,
          "metadata": {},
          "output_type": "execute_result"
        }
      ],
      "source": [
        "converter = tf.lite.TFLiteConverter.from_saved_model('/content/drive/MyDrive/BDSaS/S3/DM/DataSet/bon_model')\n",
        "tflite_model = converter.convert()\n",
        "\n",
        "import pathlib\n",
        "tflite_model_file = pathlib.Path('/content/drive/MyDrive/BDSaS/S3/DM/DataSet/model.tflite')\n",
        "tflite_model_file.write_bytes(tflite_model)"
      ]
    },
    {
      "cell_type": "markdown",
      "metadata": {},
      "source": [
        "* Model 2"
      ]
    },
    {
      "cell_type": "code",
      "execution_count": 25,
      "metadata": {
        "id": "cUrdjxOR18pm"
      },
      "outputs": [],
      "source": [
        "#model 2\n",
        "\n",
        "model2 = Sequential()\n",
        "model2.add(Rescaling((1./255),))\n",
        "model2.add(Conv2D(32, (5, 5), input_shape=(100, 100, 3), activation='relu'))\n",
        "model2.add(MaxPooling2D(pool_size=(2, 2)))\n",
        "model2.add(Dropout(0.2))\n",
        "model2.add(Flatten())\n",
        "model2.add(Dense(5, activation='softmax'))"
      ]
    },
    {
      "cell_type": "code",
      "execution_count": 26,
      "metadata": {
        "id": "Y650OgId6Ogh"
      },
      "outputs": [],
      "source": [
        "model2.compile(loss='categorical_crossentropy', optimizer='adam', metrics=['accuracy'])"
      ]
    },
    {
      "cell_type": "code",
      "execution_count": 27,
      "metadata": {
        "colab": {
          "base_uri": "https://localhost:8080/"
        },
        "id": "uP64g40A6bMG",
        "outputId": "91a22c58-addd-4dcf-a7f8-b0bba441f000"
      },
      "outputs": [
        {
          "name": "stdout",
          "output_type": "stream",
          "text": [
            "Epoch 1/3\n",
            "5622/5622 [==============================] - 203s 36ms/step - loss: 1.4564 - accuracy: 0.3047 - val_loss: 1.4275 - val_accuracy: 0.3009\n",
            "Epoch 2/3\n",
            "5622/5622 [==============================] - 227s 40ms/step - loss: 1.4168 - accuracy: 0.3055 - val_loss: 1.4278 - val_accuracy: 0.3009\n",
            "Epoch 3/3\n",
            "5622/5622 [==============================] - 202s 36ms/step - loss: 1.4160 - accuracy: 0.3056 - val_loss: 1.4281 - val_accuracy: 0.3009\n"
          ]
        },
        {
          "data": {
            "text/plain": [
              "<keras.callbacks.History at 0x7fb056dce510>"
            ]
          },
          "execution_count": 27,
          "metadata": {},
          "output_type": "execute_result"
        }
      ],
      "source": [
        "model2.fit(X_tr,y_tr,validation_data=(X_v,y_v), epochs=3, batch_size=3, verbose=1)"
      ]
    },
    {
      "cell_type": "markdown",
      "metadata": {},
      "source": [
        "* Model 3"
      ]
    },
    {
      "cell_type": "code",
      "execution_count": 28,
      "metadata": {
        "id": "1u1Z4lsC6qV-"
      },
      "outputs": [],
      "source": [
        "model3 = tf.keras.Sequential([\n",
        "  tf.keras.layers.Rescaling((1./255),),\n",
        "  tf.keras.layers.Conv2D(32, 3, activation='relu',input_shape=(100,100,3)),\n",
        "  tf.keras.layers.MaxPooling2D(),\n",
        "  tf.keras.layers.Conv2D(32, 3, activation='relu'),\n",
        "  tf.keras.layers.MaxPooling2D(),\n",
        "  tf.keras.layers.Conv2D(32, 3, activation='relu'),\n",
        "  tf.keras.layers.MaxPooling2D(),\n",
        "  tf.keras.layers.Flatten(),\n",
        "  tf.keras.layers.Dense(100, activation='relu'),\n",
        "  tf.keras.layers.Dense(50, activation='relu'),\n",
        "  tf.keras.layers.Dense(5,activation='softmax')\n",
        "])"
      ]
    },
    {
      "cell_type": "code",
      "execution_count": 29,
      "metadata": {
        "id": "s1xhWTYp8d7e"
      },
      "outputs": [],
      "source": [
        "model3.compile(loss='categorical_crossentropy', optimizer='adam', metrics=['accuracy'])"
      ]
    },
    {
      "cell_type": "code",
      "execution_count": 30,
      "metadata": {
        "colab": {
          "base_uri": "https://localhost:8080/"
        },
        "id": "GO8JC5dc-CkX",
        "outputId": "a21524e4-80d9-41d9-ffe5-09423d879b59"
      },
      "outputs": [
        {
          "name": "stdout",
          "output_type": "stream",
          "text": [
            "Epoch 1/3\n",
            "5622/5622 [==============================] - 260s 46ms/step - loss: 0.4060 - accuracy: 0.8531 - val_loss: 0.2314 - val_accuracy: 0.9229\n",
            "Epoch 2/3\n",
            "5622/5622 [==============================] - 250s 44ms/step - loss: 0.1989 - accuracy: 0.9357 - val_loss: 0.2206 - val_accuracy: 0.9248\n",
            "Epoch 3/3\n",
            "5622/5622 [==============================] - 266s 47ms/step - loss: 0.1464 - accuracy: 0.9502 - val_loss: 0.2109 - val_accuracy: 0.9327\n"
          ]
        },
        {
          "data": {
            "text/plain": [
              "<keras.callbacks.History at 0x7fb0572cfbd0>"
            ]
          },
          "execution_count": 30,
          "metadata": {},
          "output_type": "execute_result"
        }
      ],
      "source": [
        "model3.fit(X_tr,y_tr,validation_data=(X_v,y_v), epochs=3, batch_size=3, verbose=1)"
      ]
    },
    {
      "cell_type": "code",
      "execution_count": 31,
      "metadata": {
        "colab": {
          "base_uri": "https://localhost:8080/"
        },
        "id": "NhDFvASaAWUE",
        "outputId": "33329ebe-d839-450c-e431-59da80db5fc2"
      },
      "outputs": [
        {
          "name": "stdout",
          "output_type": "stream",
          "text": [
            "INFO:tensorflow:Assets written to: /content/drive/MyDrive/BDSaS/S3/DM/DataSet/bon_model2/assets\n"
          ]
        },
        {
          "name": "stderr",
          "output_type": "stream",
          "text": [
            "INFO:tensorflow:Assets written to: /content/drive/MyDrive/BDSaS/S3/DM/DataSet/bon_model2/assets\n"
          ]
        }
      ],
      "source": [
        "model3.save('/content/drive/MyDrive/BDSaS/S3/DM/DataSet/bon_model2')"
      ]
    },
    {
      "cell_type": "code",
      "execution_count": 32,
      "metadata": {
        "colab": {
          "base_uri": "https://localhost:8080/"
        },
        "id": "O6C7HPZC-IKC",
        "outputId": "9a7e39bd-a51c-4dc9-f07b-ae71b5b48ec3"
      },
      "outputs": [
        {
          "name": "stdout",
          "output_type": "stream",
          "text": [
            "Evaluate on test data\n",
            "77/77 [==============================] - 31s 398ms/step - loss: 0.2409 - accuracy: 0.9228\n",
            "test loss, 0.2409006804227829\n",
            "test acc: 0.9227542281150818\n"
          ]
        }
      ],
      "source": [
        "print(\"Evaluate on test data\")\n",
        "ls,acc = model3.evaluate(data, y_t, batch_size=128)\n",
        "print(\"test loss,\", ls)\n",
        "print(\"test acc:\", acc)"
      ]
    },
    {
      "cell_type": "code",
      "execution_count": 33,
      "metadata": {
        "colab": {
          "base_uri": "https://localhost:8080/"
        },
        "id": "D0YJbWfTBOho",
        "outputId": "3647c468-81dc-4ad7-fc98-a376a9361b36"
      },
      "outputs": [
        {
          "name": "stderr",
          "output_type": "stream",
          "text": [
            "WARNING:absl:Buffer deduplication procedure will be skipped when flatbuffer library is not properly loaded\n"
          ]
        },
        {
          "data": {
            "text/plain": [
              "1383412"
            ]
          },
          "execution_count": 33,
          "metadata": {},
          "output_type": "execute_result"
        }
      ],
      "source": [
        "converter = tf.lite.TFLiteConverter.from_saved_model('/content/drive/MyDrive/BDSaS/S3/DM/DataSet/bon_model2')\n",
        "tflite_model = converter.convert()\n",
        "\n",
        "import pathlib\n",
        "tflite_model_file = pathlib.Path('/content/drive/MyDrive/BDSaS/S3/DM/DataSet/model2.tflite')\n",
        "tflite_model_file.write_bytes(tflite_model)"
      ]
    },
    {
      "cell_type": "code",
      "execution_count": null,
      "metadata": {
        "id": "n-2VHrTmBg9o"
      },
      "outputs": [],
      "source": []
    }
  ],
  "metadata": {
    "colab": {
      "collapsed_sections": [],
      "name": "eccg.ipynb",
      "provenance": []
    },
    "kernelspec": {
      "display_name": "Python 3",
      "name": "python3"
    },
    "language_info": {
      "name": "python"
    }
  },
  "nbformat": 4,
  "nbformat_minor": 0
}
